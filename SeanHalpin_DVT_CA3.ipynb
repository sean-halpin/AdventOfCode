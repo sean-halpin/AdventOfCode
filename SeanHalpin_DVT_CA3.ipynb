{
  "nbformat": 4,
  "nbformat_minor": 0,
  "metadata": {
    "colab": {
      "name": "SeanHalpin_DVT_CA3.ipynb",
      "provenance": [],
      "toc_visible": true,
      "authorship_tag": "ABX9TyNt/PFHvtmmDL/MA/Hj9Jlq",
      "include_colab_link": true
    },
    "kernelspec": {
      "name": "python3",
      "display_name": "Python 3"
    },
    "language_info": {
      "name": "python"
    }
  },
  "cells": [
    {
      "cell_type": "markdown",
      "metadata": {
        "id": "view-in-github",
        "colab_type": "text"
      },
      "source": [
        "<a href=\"https://colab.research.google.com/github/sean-halpin/AdventOfCode/blob/master/SeanHalpin_DVT_CA3.ipynb\" target=\"_parent\"><img src=\"https://colab.research.google.com/assets/colab-badge.svg\" alt=\"Open In Colab\"/></a>"
      ]
    },
    {
      "cell_type": "code",
      "metadata": {
        "id": "UjAcyOtVHQ0P"
      },
      "source": [
        "import numpy as np\n",
        "import pandas as pd"
      ],
      "execution_count": null,
      "outputs": []
    },
    {
      "cell_type": "code",
      "metadata": {
        "id": "-CJFABUZKB23"
      },
      "source": [
        "df_raw = pd.read_csv('consolidated_coin_data.csv')"
      ],
      "execution_count": null,
      "outputs": []
    },
    {
      "cell_type": "code",
      "metadata": {
        "colab": {
          "base_uri": "https://localhost:8080/"
        },
        "id": "o3biL2epXFRp",
        "outputId": "c8c969c7-1a95-40c0-d785-ccdfda28d82a"
      },
      "source": [
        "df_raw.info()"
      ],
      "execution_count": null,
      "outputs": [
        {
          "output_type": "stream",
          "text": [
            "<class 'pandas.core.frame.DataFrame'>\n",
            "RangeIndex: 28944 entries, 0 to 28943\n",
            "Data columns (total 8 columns):\n",
            " #   Column      Non-Null Count  Dtype \n",
            "---  ------      --------------  ----- \n",
            " 0   Currency    28944 non-null  object\n",
            " 1   Date        28944 non-null  object\n",
            " 2   Open        28944 non-null  object\n",
            " 3   High        28944 non-null  object\n",
            " 4   Low         28944 non-null  object\n",
            " 5   Close       28944 non-null  object\n",
            " 6   Volume      28944 non-null  object\n",
            " 7   Market Cap  28944 non-null  object\n",
            "dtypes: object(8)\n",
            "memory usage: 1.8+ MB\n"
          ],
          "name": "stdout"
        }
      ]
    },
    {
      "cell_type": "code",
      "metadata": {
        "id": "SflD6GPGYGqp"
      },
      "source": [
        "df = df_raw\n",
        "df['Open']=df_raw['Open'].str.replace(',','')\n",
        "df[\"Open\"] = pd.to_numeric(df_raw[\"Open\"])\n",
        "\n",
        "df['High']=df_raw['High'].str.replace(',','')\n",
        "df[\"High\"] = pd.to_numeric(df_raw[\"High\"])\n",
        "\n",
        "df['Low']=df_raw['Low'].str.replace(',','')\n",
        "df[\"Low\"] = pd.to_numeric(df_raw[\"Low\"])\n",
        "\n",
        "df['Close']=df_raw['Close'].str.replace(',','')\n",
        "df[\"Close\"] = pd.to_numeric(df_raw[\"Close\"])\n",
        "\n",
        "df['Volume']=df_raw['Volume'].str.replace(',','')\n",
        "df[\"Volume\"] = pd.to_numeric(df_raw[\"Volume\"])\n",
        "\n",
        "df['Market Cap']=df_raw['Market Cap'].str.replace(',','')\n",
        "df[\"Market Cap\"] = pd.to_numeric(df_raw[\"Market Cap\"])"
      ],
      "execution_count": null,
      "outputs": []
    },
    {
      "cell_type": "code",
      "metadata": {
        "colab": {
          "base_uri": "https://localhost:8080/"
        },
        "id": "V2Ro9sdHXMaA",
        "outputId": "3b6de632-932d-44b9-9a46-d11021a7c0d9"
      },
      "source": [
        "df = df.dropna( how='all')\n",
        "df.info()"
      ],
      "execution_count": null,
      "outputs": [
        {
          "output_type": "stream",
          "text": [
            "<class 'pandas.core.frame.DataFrame'>\n",
            "Int64Index: 28944 entries, 0 to 28943\n",
            "Data columns (total 8 columns):\n",
            " #   Column      Non-Null Count  Dtype  \n",
            "---  ------      --------------  -----  \n",
            " 0   Currency    28944 non-null  object \n",
            " 1   Date        28944 non-null  object \n",
            " 2   Open        28944 non-null  float64\n",
            " 3   High        28944 non-null  float64\n",
            " 4   Low         28944 non-null  float64\n",
            " 5   Close       28944 non-null  float64\n",
            " 6   Volume      28944 non-null  float64\n",
            " 7   Market Cap  28944 non-null  int64  \n",
            "dtypes: float64(5), int64(1), object(2)\n",
            "memory usage: 2.0+ MB\n"
          ],
          "name": "stdout"
        }
      ]
    },
    {
      "cell_type": "code",
      "metadata": {
        "colab": {
          "base_uri": "https://localhost:8080/",
          "height": 202
        },
        "id": "G8XEUlp8KEGL",
        "outputId": "ded6e193-37a2-4f12-96f4-889a0960f6ae"
      },
      "source": [
        "df.head()"
      ],
      "execution_count": null,
      "outputs": [
        {
          "output_type": "execute_result",
          "data": {
            "text/html": [
              "<div>\n",
              "<style scoped>\n",
              "    .dataframe tbody tr th:only-of-type {\n",
              "        vertical-align: middle;\n",
              "    }\n",
              "\n",
              "    .dataframe tbody tr th {\n",
              "        vertical-align: top;\n",
              "    }\n",
              "\n",
              "    .dataframe thead th {\n",
              "        text-align: right;\n",
              "    }\n",
              "</style>\n",
              "<table border=\"1\" class=\"dataframe\">\n",
              "  <thead>\n",
              "    <tr style=\"text-align: right;\">\n",
              "      <th></th>\n",
              "      <th>Currency</th>\n",
              "      <th>Date</th>\n",
              "      <th>Open</th>\n",
              "      <th>High</th>\n",
              "      <th>Low</th>\n",
              "      <th>Close</th>\n",
              "      <th>Volume</th>\n",
              "      <th>Market Cap</th>\n",
              "    </tr>\n",
              "  </thead>\n",
              "  <tbody>\n",
              "    <tr>\n",
              "      <th>0</th>\n",
              "      <td>tezos</td>\n",
              "      <td>Dec 04, 2019</td>\n",
              "      <td>1.29</td>\n",
              "      <td>1.32</td>\n",
              "      <td>1.25</td>\n",
              "      <td>1.25</td>\n",
              "      <td>46048752.0</td>\n",
              "      <td>824588509</td>\n",
              "    </tr>\n",
              "    <tr>\n",
              "      <th>1</th>\n",
              "      <td>tezos</td>\n",
              "      <td>Dec 03, 2019</td>\n",
              "      <td>1.24</td>\n",
              "      <td>1.32</td>\n",
              "      <td>1.21</td>\n",
              "      <td>1.29</td>\n",
              "      <td>41462224.0</td>\n",
              "      <td>853213342</td>\n",
              "    </tr>\n",
              "    <tr>\n",
              "      <th>2</th>\n",
              "      <td>tezos</td>\n",
              "      <td>Dec 02, 2019</td>\n",
              "      <td>1.25</td>\n",
              "      <td>1.26</td>\n",
              "      <td>1.20</td>\n",
              "      <td>1.24</td>\n",
              "      <td>27574097.0</td>\n",
              "      <td>817872179</td>\n",
              "    </tr>\n",
              "    <tr>\n",
              "      <th>3</th>\n",
              "      <td>tezos</td>\n",
              "      <td>Dec 01, 2019</td>\n",
              "      <td>1.33</td>\n",
              "      <td>1.34</td>\n",
              "      <td>1.25</td>\n",
              "      <td>1.25</td>\n",
              "      <td>24127567.0</td>\n",
              "      <td>828296390</td>\n",
              "    </tr>\n",
              "    <tr>\n",
              "      <th>4</th>\n",
              "      <td>tezos</td>\n",
              "      <td>Nov 30, 2019</td>\n",
              "      <td>1.31</td>\n",
              "      <td>1.37</td>\n",
              "      <td>1.31</td>\n",
              "      <td>1.33</td>\n",
              "      <td>28706667.0</td>\n",
              "      <td>879181680</td>\n",
              "    </tr>\n",
              "  </tbody>\n",
              "</table>\n",
              "</div>"
            ],
            "text/plain": [
              "  Currency          Date  Open  High   Low  Close      Volume  Market Cap\n",
              "0    tezos  Dec 04, 2019  1.29  1.32  1.25   1.25  46048752.0   824588509\n",
              "1    tezos  Dec 03, 2019  1.24  1.32  1.21   1.29  41462224.0   853213342\n",
              "2    tezos  Dec 02, 2019  1.25  1.26  1.20   1.24  27574097.0   817872179\n",
              "3    tezos  Dec 01, 2019  1.33  1.34  1.25   1.25  24127567.0   828296390\n",
              "4    tezos  Nov 30, 2019  1.31  1.37  1.31   1.33  28706667.0   879181680"
            ]
          },
          "metadata": {
            "tags": []
          },
          "execution_count": 94
        }
      ]
    },
    {
      "cell_type": "code",
      "metadata": {
        "colab": {
          "base_uri": "https://localhost:8080/"
        },
        "id": "tQ1dY3bbL7sz",
        "outputId": "c7e6c005-8eeb-482c-b478-a233ddab69f9"
      },
      "source": [
        "df.Currency.unique().size"
      ],
      "execution_count": null,
      "outputs": [
        {
          "output_type": "execute_result",
          "data": {
            "text/plain": [
              "12"
            ]
          },
          "metadata": {
            "tags": []
          },
          "execution_count": 95
        }
      ]
    },
    {
      "cell_type": "code",
      "metadata": {
        "colab": {
          "base_uri": "https://localhost:8080/"
        },
        "id": "GM5UkimrMcoN",
        "outputId": "792a0cb2-422b-4c6e-f756-45777c1b4677"
      },
      "source": [
        "df.Currency.value_counts() "
      ],
      "execution_count": null,
      "outputs": [
        {
          "output_type": "execute_result",
          "data": {
            "text/plain": [
              "bitcoin-sv      2412\n",
              "eos             2412\n",
              "litecoin        2412\n",
              "bitcoin         2412\n",
              "xrp             2412\n",
              "bitcoin-cash    2412\n",
              "tezos           2412\n",
              "cardano         2412\n",
              "ethereum        2412\n",
              "binance-coin    2412\n",
              "stellar         2412\n",
              "tether          2412\n",
              "Name: Currency, dtype: int64"
            ]
          },
          "metadata": {
            "tags": []
          },
          "execution_count": 96
        }
      ]
    },
    {
      "cell_type": "code",
      "metadata": {
        "id": "pzT5meYbUrLS"
      },
      "source": [
        "df.Date=pd.to_datetime(df.Date)\n",
        "df[\"year\"] = pd.DatetimeIndex(df[\"Date\"]).year"
      ],
      "execution_count": null,
      "outputs": []
    },
    {
      "cell_type": "code",
      "metadata": {
        "id": "DkPE4AjQNPgy"
      },
      "source": [
        "grouped_coins_high_per_year = df.groupby([df.Currency, df.year])[\"High\"].max()"
      ],
      "execution_count": null,
      "outputs": []
    },
    {
      "cell_type": "code",
      "metadata": {
        "colab": {
          "base_uri": "https://localhost:8080/"
        },
        "id": "FxJeiY6AWtu9",
        "outputId": "f49d7e9b-841b-466f-832b-ec479d9de0d3"
      },
      "source": [
        "grouped_coins_high_per_year"
      ],
      "execution_count": null,
      "outputs": [
        {
          "output_type": "execute_result",
          "data": {
            "text/plain": [
              "Currency      year\n",
              "binance-coin  2013    53.150000\n",
              "              2014    32.060000\n",
              "              2015     8.730000\n",
              "              2016     5.950000\n",
              "              2017    53.550000\n",
              "                        ...    \n",
              "xrp           2015     0.024455\n",
              "              2016     0.009485\n",
              "              2017     2.850000\n",
              "              2018     3.840000\n",
              "              2019     0.505467\n",
              "Name: High, Length: 84, dtype: float64"
            ]
          },
          "metadata": {
            "tags": []
          },
          "execution_count": 103
        }
      ]
    },
    {
      "cell_type": "code",
      "metadata": {
        "id": "qzX58iYvWLCF"
      },
      "source": [
        "grouped_coins_avg_volume_per_year = df.groupby([df.Currency, df.year])[\"Volume\"].mean()"
      ],
      "execution_count": 105,
      "outputs": []
    },
    {
      "cell_type": "code",
      "metadata": {
        "colab": {
          "base_uri": "https://localhost:8080/"
        },
        "id": "OwQVPRVagCZQ",
        "outputId": "9cdd9b15-be95-41f4-af5e-fb6ea024cf20"
      },
      "source": [
        "grouped_coins_avg_volume_per_year"
      ],
      "execution_count": 106,
      "outputs": [
        {
          "output_type": "execute_result",
          "data": {
            "text/plain": [
              "Currency      year\n",
              "binance-coin  2013    2.959136e+05\n",
              "              2014    5.842590e+06\n",
              "              2015    3.416128e+06\n",
              "              2016    3.058113e+06\n",
              "              2017    8.075553e+07\n",
              "                          ...     \n",
              "xrp           2015    6.843716e+05\n",
              "              2016    1.425809e+06\n",
              "              2017    2.856287e+08\n",
              "              2018    8.177491e+08\n",
              "              2019    1.294813e+09\n",
              "Name: Volume, Length: 84, dtype: float64"
            ]
          },
          "metadata": {
            "tags": []
          },
          "execution_count": 106
        }
      ]
    },
    {
      "cell_type": "code",
      "metadata": {
        "id": "JBN4L1M8gGaC"
      },
      "source": [
        ""
      ],
      "execution_count": null,
      "outputs": []
    }
  ]
}